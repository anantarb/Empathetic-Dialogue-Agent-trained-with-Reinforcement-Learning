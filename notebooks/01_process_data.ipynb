{
 "cells": [
  {
   "cell_type": "code",
   "execution_count": null,
   "id": "776e4597",
   "metadata": {},
   "outputs": [],
   "source": [
    "# open the file\n",
    "df = open('empatheticdialogues/train.csv').readlines()"
   ]
  },
  {
   "cell_type": "code",
   "execution_count": null,
   "id": "75c27bfb",
   "metadata": {},
   "outputs": [],
   "source": [
    "# function to pre-process training data\n",
    "def process_training_data(df, reactonly = False, max_hist_len = 1):\n",
    "    \"\"\"\n",
    "    Parameters\n",
    "    ----------\n",
    "    df:\n",
    "        The unprocessed dataframe \n",
    "    reactonly:\n",
    "        Set it to True, if we don't want to incorporate previous context. Default to False\n",
    "    max_hist_len:\n",
    "        How many previous context do we want to incorporate. Default to 1\n",
    "\n",
    "    Returns\n",
    "    -------\n",
    "        list with processed data\n",
    "    \"\"\"\n",
    "\n",
    "    # list to keep track of consequent conversations\n",
    "    history = []\n",
    "\n",
    "    # variable to store final processed data\n",
    "    data = []\n",
    "    for i in range(1, len(df)):\n",
    "        cparts = df[i - 1].strip().split(\",\")\n",
    "        sparts = df[i].strip().split(\",\")\n",
    "\n",
    "        # check conversation follows from previous one\n",
    "        if cparts[0] == sparts[0]:\n",
    "            prevsent = cparts[5].replace(\"_comma_\", \",\")\n",
    "            history.append(prevsent)\n",
    "            if not reactonly or ((idx % 2) == 0):\n",
    "                prev_str = \" <SOC> \".join(history[-max_hist_len :])\n",
    "                contextt = prev_str\n",
    "                label = sparts[5].replace(\"_comma_\", \",\")\n",
    "                data.append((contextt, label))\n",
    "\n",
    "        else:\n",
    "            history = []\n",
    "    \n",
    "    return data"
   ]
  },
  {
   "cell_type": "code",
   "execution_count": null,
   "id": "3cd7c5a6",
   "metadata": {},
   "outputs": [],
   "source": [
    "data = process_training_data(df)"
   ]
  },
  {
   "cell_type": "code",
   "execution_count": null,
   "id": "9da50d50",
   "metadata": {},
   "outputs": [],
   "source": [
    "# visualize the data\n",
    "for i in range(4):\n",
    "    print(\"Context: \" + data[i][0] + \"\\n\")\n",
    "    print(\"Reply: \" + data[i][1] + \"\\n\")"
   ]
  },
  {
   "cell_type": "code",
   "execution_count": null,
   "id": "c6150038",
   "metadata": {},
   "outputs": [],
   "source": []
  },
  {
   "cell_type": "code",
   "execution_count": null,
   "id": "c47c4274",
   "metadata": {},
   "outputs": [],
   "source": []
  }
 ],
 "metadata": {
  "kernelspec": {
   "display_name": "Python 3",
   "language": "python",
   "name": "python3"
  },
  "language_info": {
   "codemirror_mode": {
    "name": "ipython",
    "version": 3
   },
   "file_extension": ".py",
   "mimetype": "text/x-python",
   "name": "python",
   "nbconvert_exporter": "python",
   "pygments_lexer": "ipython3",
   "version": "3.7.3"
  }
 },
 "nbformat": 4,
 "nbformat_minor": 5
}
