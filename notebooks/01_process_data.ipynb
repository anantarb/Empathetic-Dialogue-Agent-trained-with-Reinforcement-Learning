{
 "cells": [
  {
   "cell_type": "code",
   "execution_count": 1,
   "id": "03fc8ee5",
   "metadata": {},
   "outputs": [
    {
     "name": "stdout",
     "output_type": "stream",
     "text": [
      "/Users/anantabhattarai/Documents/TUM/NLP/nlp-2021-vda\n"
     ]
    }
   ],
   "source": [
    "%cd .."
   ]
  },
  {
   "cell_type": "code",
   "execution_count": 2,
   "id": "0675c1f9",
   "metadata": {},
   "outputs": [],
   "source": [
    "import numpy as np\n",
    "from models import encoder\n",
    "import random"
   ]
  },
  {
   "cell_type": "code",
   "execution_count": 3,
   "id": "c1f0789e",
   "metadata": {},
   "outputs": [],
   "source": [
    "def sentence_to_tensor(context, response, encoder, maxlen):\n",
    "    \"\"\"\n",
    "    Parameters\n",
    "    ----------\n",
    "    context:\n",
    "        context in the input \n",
    "    response:\n",
    "        response to the context\n",
    "    encoder:\n",
    "        GPT-2 encodings\n",
    "    maxlen: \n",
    "        Maximum length of the input\n",
    "    \"\"\"\n",
    "    \n",
    "    context_tokens = encoder.encode(context)\n",
    "    start_of_conv = encoder.encode(\" <SOC> \")\n",
    "    end_of_text = encoder.encode(\" <EOT> \")\n",
    "    response_tokens = encoder.encode(response)\n",
    "    input_tokens_len = len(context_tokens) + len(response_tokens) + 10\n",
    "    padding = []\n",
    "    if input_tokens_len >= maxlen:\n",
    "        if len(context_tokens) > input_tokens_len - maxlen:\n",
    "            # cut context from beginning if length of context + response is too long\n",
    "            # and len of context is long enough to cut\n",
    "            context_tokens = context_tokens[input_tokens_len - maxlen:]\n",
    "        else:\n",
    "            # cut response from end if length of context + response is too long\n",
    "            # and len of response is long enough to cut\n",
    "            if maxlen-len(context_tokens)-10 < 0:\n",
    "                return None\n",
    "            response_tokens = response_tokens[:maxlen-len(context_tokens)-10]\n",
    "    else:\n",
    "        remaining_length = maxlen - input_tokens_len\n",
    "        padding = encoder.encode(\"#\") * remaining_length\n",
    "    \n",
    "    tokens = context_tokens + start_of_conv + response_tokens + end_of_text + padding\n",
    "    \n",
    "    return tokens\n",
    "    "
   ]
  },
  {
   "cell_type": "code",
   "execution_count": 4,
   "id": "75c27bfb",
   "metadata": {},
   "outputs": [],
   "source": [
    "# function to pre-process training data\n",
    "def process_training_data(source_path, encoder, maxlen=100, history_len=1, reactonly=False):\n",
    "    \"\"\"\n",
    "    Parameters\n",
    "    ----------\n",
    "    source_path:\n",
    "        path where the csv file is located \n",
    "    encoder: \n",
    "        GPT-2 encodings\n",
    "    maxlen: \n",
    "        Maximum length of the input\n",
    "    history_len: \n",
    "        how many previous dialogues do we want\n",
    "    reactonly: \n",
    "        If set true, only parses one dialogue; useful for testing\n",
    "    \n",
    "    Returns\n",
    "    -------\n",
    "        a list with input data i.e tokens of the input needed to train the model\n",
    "\n",
    "    \"\"\"\n",
    "\n",
    "    # open the file\n",
    "    df = open(source_path).readlines()\n",
    "    max_hist_len = history_len\n",
    "    data = []\n",
    "    history = []\n",
    "    for i in range(1, len(df)):\n",
    "        cparts = df[i - 1].strip().split(\",\")\n",
    "        sparts = df[i].strip().split(\",\")\n",
    "        if cparts[0] == sparts[0]:\n",
    "            prevsent = cparts[5].replace(\"_comma_\", \",\").strip()\n",
    "            history.append(prevsent)\n",
    "            idx = int(sparts[1])\n",
    "            if not reactonly or ((idx % 2) == 0):\n",
    "                prev_str = \" <SOC> \".join(history[-max_hist_len :])\n",
    "                sent = sparts[5].replace(\"_comma_\", \",\").strip()\n",
    "                tokens = sentence_to_tensor(prev_str, sent, encoder, maxlen)\n",
    "                if tokens:\n",
    "                    data.append(np.stack(tokens))\n",
    "                \n",
    "        else:\n",
    "            history = []\n",
    "    \n",
    "    return data"
   ]
  },
  {
   "cell_type": "code",
   "execution_count": 5,
   "id": "3cd7c5a6",
   "metadata": {},
   "outputs": [],
   "source": [
    "checkpoint_path = 'gpt-2/models/124M'\n",
    "enc = encoder.get_encoder(checkpoint_path)\n",
    "data = process_training_data('datasets/empatheticdialogues/train.csv', enc, history_len=4)"
   ]
  },
  {
   "cell_type": "code",
   "execution_count": 6,
   "id": "16b4a48b",
   "metadata": {},
   "outputs": [],
   "source": [
    "class batch_sampler(object):\n",
    "\n",
    "    def __init__(self, data, batch_size, shuffle=False):\n",
    "        self.data = data\n",
    "        self.total_size = len(data)\n",
    "        self.batch_size = batch_size\n",
    "        self.current_index = 0\n",
    "        if shuffle:\n",
    "            random.shuffle(data)\n",
    "\n",
    "    def sample(self):\n",
    "        if self.current_index + self.batch_size > self.total_size:\n",
    "            self.current_index = 0\n",
    "        prev_index = self.current_index\n",
    "        self.current_index = self.current_index + self.batch_size\n",
    "        return self.data[prev_index:self.current_index]\n",
    "        "
   ]
  },
  {
   "cell_type": "code",
   "execution_count": 7,
   "id": "7d4bb6dd",
   "metadata": {},
   "outputs": [
    {
     "name": "stdout",
     "output_type": "stream",
     "text": [
      "64615\n"
     ]
    }
   ],
   "source": [
    "print(len(data))"
   ]
  },
  {
   "cell_type": "code",
   "execution_count": 8,
   "id": "306a6bba",
   "metadata": {},
   "outputs": [
    {
     "name": "stdout",
     "output_type": "stream",
     "text": [
      "20\n"
     ]
    }
   ],
   "source": [
    "bs = batch_sampler(data, batch_size=20, shuffle=True)\n",
    "d = bs.sample()\n",
    "print(len(d))"
   ]
  },
  {
   "cell_type": "code",
   "execution_count": null,
   "id": "350a79b9",
   "metadata": {},
   "outputs": [],
   "source": []
  }
 ],
 "metadata": {
  "kernelspec": {
   "display_name": "Python 3",
   "language": "python",
   "name": "python3"
  },
  "language_info": {
   "codemirror_mode": {
    "name": "ipython",
    "version": 3
   },
   "file_extension": ".py",
   "mimetype": "text/x-python",
   "name": "python",
   "nbconvert_exporter": "python",
   "pygments_lexer": "ipython3",
   "version": "3.7.3"
  }
 },
 "nbformat": 4,
 "nbformat_minor": 5
}
