{
 "cells": [
  {
   "cell_type": "markdown",
   "id": "676ef84c",
   "metadata": {},
   "source": [
    "# Introduction Notebook to our data loading and preprocessing\n",
    "\n",
    "The methods described here are later used in the `pre_train_gpt2` script but from the sourcecode in `/nlp-2021-vda/data/load_dataset.py`. This notebook is just for explanation purposes."
   ]
  },
  {
   "cell_type": "code",
   "execution_count": 2,
   "id": "03fc8ee5",
   "metadata": {},
   "outputs": [
    {
     "name": "stdout",
     "output_type": "stream",
     "text": [
      "/Users/viviane/University/NLP-Lab/OUR-CODE/nlp-2021-vda\n"
     ]
    }
   ],
   "source": [
    "%cd .."
   ]
  },
  {
   "cell_type": "markdown",
   "id": "538f8240",
   "metadata": {},
   "source": [
    "(this was for the imports in our file structure)"
   ]
  },
  {
   "cell_type": "code",
   "execution_count": 3,
   "id": "0675c1f9",
   "metadata": {},
   "outputs": [],
   "source": [
    "import numpy as np\n",
    "from models import encoder\n",
    "import random"
   ]
  },
  {
   "cell_type": "markdown",
   "id": "f693666b",
   "metadata": {},
   "source": [
    "## Data sample to tensor\n",
    "\n",
    "This pre-processing step makes a training sample readable to our system by \n",
    "* encoding it. \n",
    "* adding the `<SOC>` token between context and response to the context (last turn of the sample)\n",
    "* adding the `<EOT>` token at the end of the sample to show that this sample's dialog ends here \n",
    "* adding padding or cutting the text to fit it to the GPT-2 input size"
   ]
  },
  {
   "cell_type": "code",
   "execution_count": 26,
   "id": "c1f0789e",
   "metadata": {},
   "outputs": [],
   "source": [
    "def sentence_to_tensor(context, response, encoder, maxlen):\n",
    "    \"\"\"\n",
    "    Parameters\n",
    "    ----------\n",
    "    context:\n",
    "        context in the input \n",
    "    response:\n",
    "        response to the context\n",
    "    encoder:\n",
    "        GPT-2 encodings\n",
    "    maxlen: \n",
    "        Maximum length of the input\n",
    "    \"\"\"\n",
    "    \n",
    "    # encode history/context\n",
    "    context_tokens = encoder.encode(context)\n",
    "    # encode start of conversation marker to show that response comes next\n",
    "    start_of_conv = encoder.encode(\" <SOC> \")\n",
    "    # encode end of dialog marker\n",
    "    end_of_text = encoder.encode(\" <EOT> \")\n",
    "    # encode response\n",
    "    response_tokens = encoder.encode(response)\n",
    "    # calculate current length of all tokens (len of <SOC> + <EOT> token is 10)\n",
    "    input_tokens_len = len(context_tokens) + len(response_tokens) + 10\n",
    "    padding = []\n",
    "    # if calculated sample length is too long:\n",
    "    if input_tokens_len >= maxlen:\n",
    "        if len(context_tokens) > input_tokens_len - maxlen:\n",
    "            # cut context from beginning if length of context + response is too long\n",
    "            # and len of context is long enough to cut\n",
    "            context_tokens = context_tokens[input_tokens_len - maxlen:]\n",
    "        else:\n",
    "            # cut response from end if length of context + response is too long\n",
    "            # and len of response is long enough to cut\n",
    "            if maxlen-len(context_tokens)-10 < 0:\n",
    "                return None\n",
    "            response_tokens = response_tokens[:maxlen-len(context_tokens)-10]\n",
    "    # if calculated sample length is too short:            \n",
    "    else:\n",
    "        # calculate how many chars are missing\n",
    "        remaining_length = maxlen - input_tokens_len\n",
    "        # encode padding with #s\n",
    "        padding = encoder.encode(\"#\") * remaining_length\n",
    "    # concatenate every encoded piece + padding\n",
    "    tokens = context_tokens + start_of_conv + response_tokens + end_of_text + padding\n",
    "    \n",
    "    return tokens\n",
    "    "
   ]
  },
  {
   "cell_type": "markdown",
   "id": "5ed17d6d",
   "metadata": {},
   "source": [
    "## Getting what we need from EmpathicDialog training files:\n",
    "\n",
    "This methods takes the EmpathicDialog dataset and does the following pre-processing steps:\n",
    "\n",
    "* Use only the dialog parts (not the other columns)\n",
    "* Create 3/4/5 samples per 4/5/6-turn-dialog (in the dataset 4/5/6 turns of two personas make a dialog) by using\n",
    "  * First turn as context for second turn\n",
    "  * First and second turn as context for third turn\n",
    "  * First, second and third turn as context for fourth turn\n",
    "  * [If 5/6-turn-dialog] First, second, third and fourth turn as context for fith turn\n",
    "  * [If 6-turn-dialog] First, second, third, fourth and fith turn as context for sixth turn\n",
    "  * (how many of these for samples we create can be configuerd by `history_len`)\n",
    "* replace all `_comma_`s by `,`s\n",
    "* add `<SOC>` markers to show that the next turn from the other dialog partner begins here\n",
    "    "
   ]
  },
  {
   "cell_type": "code",
   "execution_count": 27,
   "id": "75c27bfb",
   "metadata": {},
   "outputs": [],
   "source": [
    "# function to pre-process training data\n",
    "def process_training_data(source_path, encoder, maxlen=100, history_len=1, reactonly=False):\n",
    "    \"\"\"\n",
    "    Parameters\n",
    "    ----------\n",
    "    source_path:\n",
    "        path where the csv file is located \n",
    "    encoder: \n",
    "        GPT-2 encodings\n",
    "    maxlen: \n",
    "        Maximum length of the input\n",
    "    history_len: \n",
    "        how many previous dialogues do we want\n",
    "    reactonly: \n",
    "        If set true, only parses one dialogue; useful for testing\n",
    "    \n",
    "    Returns\n",
    "    -------\n",
    "        a list with input data i.e tokens of the input needed to train the model\n",
    "\n",
    "    \"\"\"\n",
    "\n",
    "    # open the file\n",
    "    df = open(source_path).readlines()\n",
    "    max_hist_len = history_len\n",
    "    data = []\n",
    "    history = []\n",
    "    # for all lines in dataframe\n",
    "    for i in range(1, len(df)):\n",
    "        # get previous line of dataframe\n",
    "        cparts = df[i - 1].strip().split(\",\")\n",
    "        # get current line of dataframe\n",
    "        sparts = df[i].strip().split(\",\")\n",
    "        # if previous and current line of dataframe belong to the same 5-turn-dialog\n",
    "        if cparts[0] == sparts[0]:\n",
    "            # take turn (the dialog text) of previous line\n",
    "            prevsent = cparts[5].replace(\"_comma_\", \",\").strip()\n",
    "            # append the turn of previous line to history list\n",
    "            history.append(prevsent)\n",
    "            # get number of turn of current line of data frame (1-5)\n",
    "            idx = int(sparts[1])\n",
    "            # ractonly is for later testing purposes so at the moment false\n",
    "            # so if number of dialog turn is not 2, 4 or 6 (???)\n",
    "            if not reactonly or ((idx % 2) == 0):\n",
    "                # append the <SOC> tag to every line of the history so far \n",
    "                # to show that from here the next turn starts\n",
    "                prev_str = \" <SOC> \".join(history[-max_hist_len :])\n",
    "                # get current dialog line (the response to the history so far)\n",
    "                sent = sparts[5].replace(\"_comma_\", \",\").strip()\n",
    "                # encode and pad sample with method above \n",
    "                # (use history so far, current turn, encoder and chosen \n",
    "                # maxlen for padding)\n",
    "                tokens = sentence_to_tensor(prev_str, sent, encoder, maxlen)\n",
    "                # if everything worked, append to data list\n",
    "                if tokens:\n",
    "                    data.append(np.stack(tokens))\n",
    "        # if previous and cureent line do not belong to the same 5-turn-dialog    \n",
    "        else:\n",
    "            # reset history for the next 5-turn-dialog \n",
    "            history = []\n",
    "    \n",
    "    return data"
   ]
  },
  {
   "cell_type": "markdown",
   "id": "a446b518",
   "metadata": {},
   "source": [
    "## Pre-Processing\n",
    "\n",
    "Using the methods above to create the `data` fitting as input of the GPT-2 model. All 64615 samples are now saved in a list (`data`) and can be feeded to the model."
   ]
  },
  {
   "cell_type": "code",
   "execution_count": 28,
   "id": "3cd7c5a6",
   "metadata": {},
   "outputs": [],
   "source": [
    "checkpoint_path = 'gpt-2/models/124M'\n",
    "enc = encoder.get_encoder(checkpoint_path)\n",
    "data = process_training_data('datasets/empatheticdialogues/train.csv', enc, history_len=4)"
   ]
  },
  {
   "cell_type": "markdown",
   "id": "c81818f1",
   "metadata": {},
   "source": [
    "## Cutting data samples into batches:\n",
    "This class takes the batch size (number of samples per batch) and the data and always returns one batch (collection of data samples) when calling the method `sample`."
   ]
  },
  {
   "cell_type": "code",
   "execution_count": 29,
   "id": "16b4a48b",
   "metadata": {},
   "outputs": [],
   "source": [
    "class batch_sampler(object):\n",
    "\n",
    "    def __init__(self, data, batch_size, shuffle=False):\n",
    "        self.data = data\n",
    "        self.total_size = len(data)\n",
    "        self.batch_size = batch_size\n",
    "        self.current_index = 0\n",
    "        if shuffle:\n",
    "            random.shuffle(data)\n",
    "\n",
    "    # Get next batch\n",
    "    def sample(self):\n",
    "        # if the next batch would exeed total sample size\n",
    "        if self.current_index + self.batch_size > self.total_size:\n",
    "            # reset the index to 0\n",
    "            self.current_index = 0\n",
    "        # start index of batch set is current index\n",
    "        prev_index = self.current_index\n",
    "        # end index of batch size ist current index + batch size\n",
    "        # this will be the new current index\n",
    "        self.current_index = self.current_index + self.batch_size\n",
    "        return self.data[prev_index:self.current_index]\n",
    "        "
   ]
  },
  {
   "cell_type": "markdown",
   "id": "18f0d14d",
   "metadata": {},
   "source": [
    "Number of all samples in our dataset:"
   ]
  },
  {
   "cell_type": "code",
   "execution_count": 32,
   "id": "7d4bb6dd",
   "metadata": {},
   "outputs": [
    {
     "name": "stdout",
     "output_type": "stream",
     "text": [
      "64615\n"
     ]
    }
   ],
   "source": [
    "print(len(data))"
   ]
  },
  {
   "cell_type": "markdown",
   "id": "9c64cc51",
   "metadata": {},
   "source": [
    "## How to get one batch:"
   ]
  },
  {
   "cell_type": "code",
   "execution_count": 31,
   "id": "306a6bba",
   "metadata": {},
   "outputs": [
    {
     "name": "stdout",
     "output_type": "stream",
     "text": [
      "20\n"
     ]
    }
   ],
   "source": [
    "bs = batch_sampler(data, batch_size=20, shuffle=True)\n",
    "d = bs.sample()\n",
    "print(len(d))"
   ]
  },
  {
   "cell_type": "code",
   "execution_count": null,
   "id": "350a79b9",
   "metadata": {},
   "outputs": [],
   "source": []
  }
 ],
 "metadata": {
  "kernelspec": {
   "display_name": "Python 3",
   "language": "python",
   "name": "python3"
  },
  "language_info": {
   "codemirror_mode": {
    "name": "ipython",
    "version": 3
   },
   "file_extension": ".py",
   "mimetype": "text/x-python",
   "name": "python",
   "nbconvert_exporter": "python",
   "pygments_lexer": "ipython3",
   "version": "3.7.0"
  }
 },
 "nbformat": 4,
 "nbformat_minor": 5
}
