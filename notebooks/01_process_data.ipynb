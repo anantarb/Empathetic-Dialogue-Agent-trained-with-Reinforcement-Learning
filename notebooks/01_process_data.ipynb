{
 "cells": [
  {
   "cell_type": "code",
   "execution_count": null,
   "id": "0675c1f9",
   "metadata": {},
   "outputs": [],
   "source": [
    "import numpy as np\n",
    "from model import encoder"
   ]
  },
  {
   "cell_type": "code",
   "execution_count": null,
   "id": "c1f0789e",
   "metadata": {},
   "outputs": [],
   "source": [
    "def sentence_to_tensor(context, response, encoder, maxlen):\n",
    "    \"\"\"\n",
    "    Parameters\n",
    "    ----------\n",
    "    context:\n",
    "        context in the input \n",
    "    response:\n",
    "        response to the context\n",
    "    encoder:\n",
    "        GPT-2 encodings\n",
    "    maxlen: \n",
    "        Maximum length of the input\n",
    "    \"\"\"\n",
    "    \n",
    "    context_tokens = encoder.encode(context)\n",
    "    start_of_conv = encoder.encode(\" <SOC> \")\n",
    "    end_of_text = encoder.encode(\" <EOT> \")\n",
    "    response_tokens = encoder.encode(response)\n",
    "    input_tokens_len = len(context_tokens) + len(response_tokens) + 10\n",
    "    padding = []\n",
    "    if input_tokens_len >= maxlen:\n",
    "        if len(context_tokens) > input_tokens_len - maxlen:\n",
    "            # cut context from beginning if length of context + response is too long\n",
    "            # and len of context is long enough to cut\n",
    "            context_tokens = context_tokens[input_tokens_len - maxlen:]\n",
    "        else:\n",
    "            # cut response from end if length of context + response is too long\n",
    "            # and len of response is long enough to cut\n",
    "            if maxlen-len(context_tokens)-10 < 0:\n",
    "                return None\n",
    "            response_tokens = response_tokens[:maxlen-len(context_tokens)-10]\n",
    "    else:\n",
    "        remaining_length = maxlen - input_tokens_len\n",
    "        padding = encoder.encode(\"#\") * remaining_length\n",
    "    \n",
    "    tokens = context_tokens + start_of_conv + response_tokens + end_of_text + padding\n",
    "    \n",
    "    return tokens\n",
    "    "
   ]
  },
  {
   "cell_type": "code",
   "execution_count": null,
   "id": "75c27bfb",
   "metadata": {},
   "outputs": [],
   "source": [
    "# function to pre-process training data\n",
    "def process_training_data(source_path, encoder, maxlen=100, history_len=1, reactonly=False):\n",
    "    \"\"\"\n",
    "    Parameters\n",
    "    ----------\n",
    "    source_path:\n",
    "        path where the csv file is located \n",
    "    encoder: \n",
    "        GPT-2 encodings\n",
    "    maxlen: \n",
    "        Maximum length of the input\n",
    "    history_len: \n",
    "        how many previous dialogues do we want\n",
    "    reactonly: \n",
    "        If set true, only parses one dialogue; useful for testing\n",
    "    \n",
    "    Returns\n",
    "    -------\n",
    "        a list with input data i.e tokens of the input needed to train the model\n",
    "\n",
    "    \"\"\"\n",
    "\n",
    "    # open the file\n",
    "    df = open(source_path).readlines()\n",
    "    max_hist_len = history_len\n",
    "    data = []\n",
    "    history = []\n",
    "    for i in range(1, len(df)):\n",
    "        cparts = df[i - 1].strip().split(\",\")\n",
    "        sparts = df[i].strip().split(\",\")\n",
    "        if cparts[0] == sparts[0]:\n",
    "            prevsent = cparts[5].replace(\"_comma_\", \",\").strip()\n",
    "            history.append(prevsent)\n",
    "            idx = int(sparts[1])\n",
    "            if not reactonly or ((idx % 2) == 0):\n",
    "                prev_str = \" <SOC> \".join(history[-max_hist_len :])\n",
    "                sent = sparts[5].replace(\"_comma_\", \",\").strip()\n",
    "                tokens = sentence_to_tensor(prev_str, sent, encoder, maxlen)\n",
    "                if tokens:\n",
    "                    data.append(np.stack(tokens))\n",
    "                \n",
    "        else:\n",
    "            history = []\n",
    "    \n",
    "    return data"
   ]
  },
  {
   "cell_type": "code",
   "execution_count": null,
   "id": "3cd7c5a6",
   "metadata": {},
   "outputs": [],
   "source": [
    "checkpoint_path = 'gpt-2/models/124M'\n",
    "enc = encoder.get_encoder(checkpoint_path)\n",
    "data = process_training_data('empatheticdialogues/train.csv', enc, history_len=4)"
   ]
  },
  {
   "cell_type": "code",
   "execution_count": null,
   "id": "16b4a48b",
   "metadata": {},
   "outputs": [],
   "source": [
    "print(enc.decode(data[550]))"
   ]
  },
  {
   "cell_type": "code",
   "execution_count": null,
   "id": "fdacce57",
   "metadata": {},
   "outputs": [],
   "source": []
  }
 ],
 "metadata": {
  "kernelspec": {
   "display_name": "Python 3",
   "language": "python",
   "name": "python3"
  },
  "language_info": {
   "codemirror_mode": {
    "name": "ipython",
    "version": 3
   },
   "file_extension": ".py",
   "mimetype": "text/x-python",
   "name": "python",
   "nbconvert_exporter": "python",
   "pygments_lexer": "ipython3",
   "version": "3.7.3"
  }
 },
 "nbformat": 4,
 "nbformat_minor": 5
}
