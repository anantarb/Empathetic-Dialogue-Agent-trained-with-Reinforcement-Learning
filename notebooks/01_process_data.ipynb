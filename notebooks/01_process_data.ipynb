{
 "cells": [
  {
   "cell_type": "code",
   "execution_count": 1,
   "id": "75c27bfb",
   "metadata": {},
   "outputs": [],
   "source": [
    "# function to pre-process training data\n",
    "def process_training_data(source_path, dest_path):\n",
    "    \"\"\"\n",
    "    Parameters\n",
    "    ----------\n",
    "    source_path:\n",
    "        path where the csv file is located \n",
    "    dest_path:\n",
    "        path where processed txt file should be stored\n",
    "    \n",
    "    \"\"\"\n",
    "\n",
    "    # open the file\n",
    "    df = open(source_path).readlines()\n",
    "    data = ''\n",
    "    history = []\n",
    "    speaker = 1\n",
    "    f = open(dest_path, 'w')\n",
    "    for i in range(1, len(df)):\n",
    "        cparts = df[i - 1].strip().split(\",\")\n",
    "        sparts = df[i].strip().split(\",\")\n",
    "        if cparts[0] == sparts[0]:\n",
    "            if not history:\n",
    "                history.append(\"<bos>\")\n",
    "        \n",
    "            if speaker % 2 == 1:\n",
    "                history.append(\"<speaker1>\")\n",
    "            else:\n",
    "                history.append(\"<speaker2>\")\n",
    "            conv = cparts[5].replace(\"_comma_\", \",\")\n",
    "            history.append(conv)\n",
    "            speaker += 1\n",
    "        else:\n",
    "            if history:\n",
    "                data = data + \" \".join(history) + \" \" + \"<eos>\" + \"\\n\"\n",
    "                history = []\n",
    "                speaker = 1\n",
    "    f.write(data)   "
   ]
  },
  {
   "cell_type": "code",
   "execution_count": 2,
   "id": "3cd7c5a6",
   "metadata": {},
   "outputs": [],
   "source": [
    "data = process_training_data('empatheticdialogues/train.csv', 'empatheticdialogues/train.txt')"
   ]
  }
 ],
 "metadata": {
  "kernelspec": {
   "display_name": "Python 3",
   "language": "python",
   "name": "python3"
  },
  "language_info": {
   "codemirror_mode": {
    "name": "ipython",
    "version": 3
   },
   "file_extension": ".py",
   "mimetype": "text/x-python",
   "name": "python",
   "nbconvert_exporter": "python",
   "pygments_lexer": "ipython3",
   "version": "3.7.3"
  }
 },
 "nbformat": 4,
 "nbformat_minor": 5
}
