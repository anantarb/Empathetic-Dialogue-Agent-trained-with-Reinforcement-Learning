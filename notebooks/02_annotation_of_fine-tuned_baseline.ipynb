{
 "cells": [
  {
   "cell_type": "markdown",
   "id": "8521aceb",
   "metadata": {},
   "source": [
    "# Annotate Data\n",
    "\n",
    "This notebook helps you annotate the samples we got from our GPT-2 baseline model after fine-tuning on the EmpathicDialog dataset. Later we will use the annotated data to train our reward model."
   ]
  },
  {
   "cell_type": "code",
   "execution_count": 1,
   "id": "6f13e6a4",
   "metadata": {},
   "outputs": [
    {
     "name": "stdout",
     "output_type": "stream",
     "text": [
      "/Users/viviane/University/NLP-Lab/OUR-CODE/nlp-2021-vda\n",
      "README.md             env.yaml              \u001b[1m\u001b[36mscripts\u001b[m\u001b[m/\r\n",
      "\u001b[1m\u001b[36mcheckpoint\u001b[m\u001b[m/           \u001b[1m\u001b[36mgpt-2\u001b[m\u001b[m/                \u001b[1m\u001b[36mtests\u001b[m\u001b[m/\r\n",
      "\u001b[1m\u001b[36mdata\u001b[m\u001b[m/                 \u001b[1m\u001b[36mmodels\u001b[m\u001b[m/               train_notebook.ipynb\r\n",
      "\u001b[1m\u001b[36mdatasets\u001b[m\u001b[m/             \u001b[1m\u001b[36mnotebooks\u001b[m\u001b[m/\r\n",
      "env.py                requirements.txt\r\n"
     ]
    }
   ],
   "source": [
    "%cd ..\n",
    "%ls"
   ]
  },
  {
   "cell_type": "code",
   "execution_count": 2,
   "id": "d7c64c8c",
   "metadata": {},
   "outputs": [],
   "source": [
    "from scripts import annotate_comparisons"
   ]
  },
  {
   "cell_type": "markdown",
   "id": "45871177",
   "metadata": {},
   "source": [
    "## Start Session\n",
    "Here you can start the annotation phase. The inputfile-string that you can specify when calling the annotation method should be the path to json consisting of data samples like the following:\n",
    "```json\n",
    "[\n",
    "    {\n",
    "        \"query\": \"Hi, how are you? <SOC> I’m not so happy today ... <SOC> Why is that?\",\n",
    "        \"sample0\": \"I have a rough time at work at the moment.\",\n",
    "        \"sample1\": \"I don't really know.\"\n",
    "    },\n",
    "    {\n",
    "        \"query\": \"Hi, How are you?\",\n",
    "        \"sample0\": \"I am fine.\",\n",
    "        \"sample1\": \"What do you mean?\"\n",
    "    },\n",
    "    {\n",
    "        \"query\": \"What's your favorite colour?\",\n",
    "        \"sample0\": \"I don't know.\",\n",
    "        \"sample1\": \"I think it will be better\"\n",
    "    },\n",
    "    {\n",
    "        \"query\": \"I'm tired.\",\n",
    "        \"sample0\": \"Do you sleep enough?\",\n",
    "        \"sample1\": \"We all have this problem.\"\n",
    "    },\n",
    "    {\n",
    "        \"query\": \"What's your problem?\",\n",
    "        \"sample0\": \"I don't know.\",\n",
    "        \"sample1\": \"I'm happy\"\n",
    "    }\n",
    "]\n",
    "```\n",
    "\n",
    "During the annotation you'll get the query and should decide wich of the two samples to continue the dialog is better. You have the choice between 4 options:\n",
    "\n",
    "* 1 for left\n",
    "* 2 for right\n",
    "* 3 if they are equally good\n",
    "* 4 if they are uncomparable\n",
    "\n",
    "If you want to stop your annotation session type `exit`. Your current progress will be saved in a file called something like `annotated_samples_16-05-2021-21-35.json` with the time stamp of the start of your session."
   ]
  },
  {
   "cell_type": "code",
   "execution_count": 3,
   "id": "21e5b5fb",
   "metadata": {},
   "outputs": [
    {
     "name": "stdout",
     "output_type": "stream",
     "text": [
      "Input file is \" ../data/test_comparisons_output.json\n",
      "Output file is \" \n",
      "Done! Parsed 1 dialogs\n",
      "Done! Parsed 2 dialogs\n",
      "Done! Parsed 3 dialogs\n",
      "Done! Parsed 4 dialogs\n",
      "Done! Parsed 5 dialogs\n",
      "\n",
      "Welcome to the dialog annotation tool!\n",
      "During the next few minutes you will be presented with pairs of responses to the same dialog history, side-by-side, for which you should decide which response is better.\n",
      "You will have the following options:\n",
      "Type \u001b[92m1\u001b[0m for left,\n",
      "     \u001b[92m2\u001b[0m for right,\n",
      "     \u001b[92m3\u001b[0m if they are equally good,\n",
      "     \u001b[92m4\u001b[0m if they are uncomparable, or\n",
      "     \u001b[91mexit\u001b[0m to stop annotation.\n",
      "Hit enter to save your decision.\n",
      "The next dialog and response pair will automatically be shown to you after you hit enter.\n",
      "\n",
      "If you are ready, type start.\n",
      "If you want to quit, type exit.\n",
      "Output in file annotated_samples_16-05-2021-22-20.json.\n",
      "Your input: start\n",
      "\u001b[92m-\u001b[0m\u001b[92m-\u001b[0m\u001b[92m-\u001b[0m\u001b[92m-\u001b[0m\u001b[92m-\u001b[0m\u001b[92m-\u001b[0m\u001b[92m-\u001b[0m\u001b[92m-\u001b[0m\u001b[92m-\u001b[0m\u001b[92m-\u001b[0m\u001b[92m-\u001b[0m\u001b[92m-\u001b[0m\u001b[92m-\u001b[0m\u001b[92m-\u001b[0m\u001b[92m-\u001b[0m\u001b[92m-\u001b[0m\u001b[92m-\u001b[0m\u001b[92m-\u001b[0m\u001b[92m-\u001b[0m\u001b[92m-\u001b[0m\u001b[92m-\u001b[0m\u001b[92m-\u001b[0m\u001b[92m-\u001b[0m\u001b[92m-\u001b[0m\u001b[92m-\u001b[0m\u001b[92m-\u001b[0m\u001b[92m-\u001b[0m\u001b[92m-\u001b[0m\u001b[92m-\u001b[0m\u001b[92m-\u001b[0m\u001b[92m-\u001b[0m\u001b[92m-\u001b[0m\u001b[92m-\u001b[0m\u001b[92m-\u001b[0m\u001b[92m-\u001b[0m\u001b[92m-\u001b[0m\u001b[92m-\u001b[0m\u001b[92m-\u001b[0m\u001b[92m-\u001b[0m\u001b[92m-\u001b[0m\u001b[92m-\u001b[0m\u001b[92m-\u001b[0m\u001b[92m-\u001b[0m\u001b[92m-\u001b[0m\u001b[92m-\u001b[0m\u001b[92m-\u001b[0m\u001b[92m-\u001b[0m\u001b[92m-\u001b[0m\u001b[92m-\u001b[0m\u001b[92m-\u001b[0m\u001b[92m-\u001b[0m\u001b[92m-\u001b[0m\u001b[92m-\u001b[0m\u001b[92m-\u001b[0m\u001b[92m-\u001b[0m\u001b[92m-\u001b[0m\u001b[92m-\u001b[0m\u001b[92m-\u001b[0m\u001b[92m-\u001b[0m\u001b[92m-\u001b[0m\u001b[92m-\u001b[0m\u001b[92m-\u001b[0m\u001b[92m-\u001b[0m\u001b[92m-\u001b[0m\u001b[92m-\u001b[0m\u001b[92m-\u001b[0m\u001b[92m-\u001b[0m\u001b[92m-\u001b[0m\u001b[92m-\u001b[0m\u001b[92m-\u001b[0m\u001b[92m-\u001b[0m\u001b[92m-\u001b[0m\u001b[92m-\u001b[0m\u001b[92m-\u001b[0m\u001b[92m-\u001b[0m\u001b[92m-\u001b[0m\u001b[92m-\u001b[0m\u001b[92m-\u001b[0m\u001b[92m-\u001b[0m\u001b[92m-\u001b[0m\u001b[92m-\u001b[0m\u001b[92m-\u001b[0m\u001b[92m-\u001b[0m\u001b[92m-\u001b[0m\u001b[92m-\u001b[0m\u001b[92m-\u001b[0m\u001b[92m-\u001b[0m\u001b[92m-\u001b[0m\u001b[92m-\u001b[0m\u001b[92m-\u001b[0m\u001b[92m-\u001b[0m\u001b[92m-\u001b[0m\u001b[92m-\u001b[0m\u001b[92m-\u001b[0m\u001b[92m-\u001b[0m\u001b[92m-\u001b[0m\u001b[92m-\u001b[0m\u001b[92m-\u001b[0m\u001b[92m-\u001b[0m\u001b[92m-\u001b[0m\u001b[92m-\u001b[0m\u001b[92m-\u001b[0m\u001b[92m-\u001b[0m\u001b[92m-\u001b[0m\u001b[92m-\u001b[0m\u001b[92m-\u001b[0m\u001b[92m-\u001b[0m\u001b[92m-\u001b[0m\u001b[92m-\u001b[0m\u001b[92m-\u001b[0m\n",
      "5\n",
      "This is the dialog history:\n",
      "--------------------------------------------------------------------------------------------------------------\n",
      "\u001b[96m[Sample 1 of 5]\u001b[0m\n",
      "\u001b[96mA: Hi, how are you? \u001b[0m\n",
      "\u001b[96mB:  I’m not so happy today ... \u001b[0m\n",
      "\u001b[96mA:  Why is that?\u001b[0m\n",
      "--------------------------------------------------------------------------------------------------------------\n",
      "\n",
      "Which next turn is better?\n",
      "--------------------------------------------------------------------------------------------------------------\n",
      "Dialog 1                                               |     Dialog 2\n",
      "\u001b[96mI have a rough time at work at the moment.        \u001b[0m     |     \u001b[96mI don't really know.                              \u001b[0m\n",
      "--------------------------------------------------------------------------------------------------------------\n",
      "\n",
      "Which dialog is better? Type 1 for left, 2 for right, 3 if they are equally good, 4 if they are uncomparable (or exit to stop annotation) and hit enter.\n",
      "Your input: 1\n",
      "2\n",
      "\n",
      "Annotation finished successfully. \n",
      "You can find your annotation results under: /Users/viviane/University/NLP-Lab/OUR-CODE/nlp-2021-vda/scripts/results/annotated_samples_16-05-2021-22-20.json\n",
      "This is the dialog history:\n",
      "--------------------------------------------------------------------------------------------------------------\n",
      "\u001b[96m[Sample 2 of 5]\u001b[0m\n",
      "\u001b[96mA: Hi, How are you?\u001b[0m\n",
      "--------------------------------------------------------------------------------------------------------------\n",
      "\n",
      "Which next turn is better?\n",
      "--------------------------------------------------------------------------------------------------------------\n",
      "Dialog 1                                               |     Dialog 2\n",
      "\u001b[96mWhat do you mean?                                 \u001b[0m     |     \u001b[96mI am fine.                                        \u001b[0m\n",
      "--------------------------------------------------------------------------------------------------------------\n",
      "\n",
      "Which dialog is better? Type 1 for left, 2 for right, 3 if they are equally good, 4 if they are uncomparable (or exit to stop annotation) and hit enter.\n",
      "Your input: 2\n",
      "2\n",
      "\n",
      "Annotation finished successfully. \n",
      "You can find your annotation results under: /Users/viviane/University/NLP-Lab/OUR-CODE/nlp-2021-vda/scripts/results/annotated_samples_16-05-2021-22-20.json\n",
      "This is the dialog history:\n",
      "--------------------------------------------------------------------------------------------------------------\n",
      "\u001b[96m[Sample 3 of 5]\u001b[0m\n",
      "\u001b[96mA: What's your favorite colour?\u001b[0m\n",
      "--------------------------------------------------------------------------------------------------------------\n",
      "\n",
      "Which next turn is better?\n",
      "--------------------------------------------------------------------------------------------------------------\n",
      "Dialog 1                                               |     Dialog 2\n",
      "\u001b[96mI don't know.                                     \u001b[0m     |     \u001b[96mI think it will be better                         \u001b[0m\n",
      "--------------------------------------------------------------------------------------------------------------\n",
      "\n",
      "Which dialog is better? Type 1 for left, 2 for right, 3 if they are equally good, 4 if they are uncomparable (or exit to stop annotation) and hit enter.\n",
      "Your input: exit\n"
     ]
    }
   ],
   "source": [
    "annotate_comparisons.annotate(inputfile='../data/test_comparisons_output.json')"
   ]
  },
  {
   "cell_type": "markdown",
   "id": "4690c26b",
   "metadata": {},
   "source": [
    "## Continue session\n",
    "\n",
    "To continue your annotating session on the inputfile located at `../data/test_comparisons_output.json` with the output saved in a file for example called `annotated_samples_16-05-2021-21-35.json` just give another parameter to the `annotate()` method like you see in the following snippet:"
   ]
  },
  {
   "cell_type": "code",
   "execution_count": 5,
   "id": "81a295df",
   "metadata": {},
   "outputs": [
    {
     "name": "stdout",
     "output_type": "stream",
     "text": [
      "Input file is \" ../data/test_comparisons_output.json\n",
      "Output file is \" annotated_samples_16-05-2021-22-20.json\n",
      "Done! Parsed 1 dialogs\n",
      "Done! Parsed 2 dialogs\n",
      "Done! Parsed 3 dialogs\n",
      "Done! Parsed 4 dialogs\n",
      "Done! Parsed 5 dialogs\n",
      "\n",
      "Welcome to the dialog annotation tool!\n",
      "During the next few minutes you will be presented with pairs of responses to the same dialog history, side-by-side, for which you should decide which response is better.\n",
      "You will have the following options:\n",
      "Type \u001b[92m1\u001b[0m for left,\n",
      "     \u001b[92m2\u001b[0m for right,\n",
      "     \u001b[92m3\u001b[0m if they are equally good,\n",
      "     \u001b[92m4\u001b[0m if they are uncomparable, or\n",
      "     \u001b[91mexit\u001b[0m to stop annotation.\n",
      "Hit enter to save your decision.\n",
      "The next dialog and response pair will automatically be shown to you after you hit enter.\n",
      "\n",
      "If you are ready, type start.\n",
      "If you want to quit, type exit.\n",
      "Output in file annotated_samples_16-05-2021-22-20.json.\n",
      "Your input: start\n",
      "\u001b[92m-\u001b[0m\u001b[92m-\u001b[0m\u001b[92m-\u001b[0m\u001b[92m-\u001b[0m\u001b[92m-\u001b[0m\u001b[92m-\u001b[0m\u001b[92m-\u001b[0m\u001b[92m-\u001b[0m\u001b[92m-\u001b[0m\u001b[92m-\u001b[0m\u001b[92m-\u001b[0m\u001b[92m-\u001b[0m\u001b[92m-\u001b[0m\u001b[92m-\u001b[0m\u001b[92m-\u001b[0m\u001b[92m-\u001b[0m\u001b[92m-\u001b[0m\u001b[92m-\u001b[0m\u001b[92m-\u001b[0m\u001b[92m-\u001b[0m\u001b[92m-\u001b[0m\u001b[92m-\u001b[0m\u001b[92m-\u001b[0m\u001b[92m-\u001b[0m\u001b[92m-\u001b[0m\u001b[92m-\u001b[0m\u001b[92m-\u001b[0m\u001b[92m-\u001b[0m\u001b[92m-\u001b[0m\u001b[92m-\u001b[0m\u001b[92m-\u001b[0m\u001b[92m-\u001b[0m\u001b[92m-\u001b[0m\u001b[92m-\u001b[0m\u001b[92m-\u001b[0m\u001b[92m-\u001b[0m\u001b[92m-\u001b[0m\u001b[92m-\u001b[0m\u001b[92m-\u001b[0m\u001b[92m-\u001b[0m\u001b[92m-\u001b[0m\u001b[92m-\u001b[0m\u001b[92m-\u001b[0m\u001b[92m-\u001b[0m\u001b[92m-\u001b[0m\u001b[92m-\u001b[0m\u001b[92m-\u001b[0m\u001b[92m-\u001b[0m\u001b[92m-\u001b[0m\u001b[92m-\u001b[0m\u001b[92m-\u001b[0m\u001b[92m-\u001b[0m\u001b[92m-\u001b[0m\u001b[92m-\u001b[0m\u001b[92m-\u001b[0m\u001b[92m-\u001b[0m\u001b[92m-\u001b[0m\u001b[92m-\u001b[0m\u001b[92m-\u001b[0m\u001b[92m-\u001b[0m\u001b[92m-\u001b[0m\u001b[92m-\u001b[0m\u001b[92m-\u001b[0m\u001b[92m-\u001b[0m\u001b[92m-\u001b[0m\u001b[92m-\u001b[0m\u001b[92m-\u001b[0m\u001b[92m-\u001b[0m\u001b[92m-\u001b[0m\u001b[92m-\u001b[0m\u001b[92m-\u001b[0m\u001b[92m-\u001b[0m\u001b[92m-\u001b[0m\u001b[92m-\u001b[0m\u001b[92m-\u001b[0m\u001b[92m-\u001b[0m\u001b[92m-\u001b[0m\u001b[92m-\u001b[0m\u001b[92m-\u001b[0m\u001b[92m-\u001b[0m\u001b[92m-\u001b[0m\u001b[92m-\u001b[0m\u001b[92m-\u001b[0m\u001b[92m-\u001b[0m\u001b[92m-\u001b[0m\u001b[92m-\u001b[0m\u001b[92m-\u001b[0m\u001b[92m-\u001b[0m\u001b[92m-\u001b[0m\u001b[92m-\u001b[0m\u001b[92m-\u001b[0m\u001b[92m-\u001b[0m\u001b[92m-\u001b[0m\u001b[92m-\u001b[0m\u001b[92m-\u001b[0m\u001b[92m-\u001b[0m\u001b[92m-\u001b[0m\u001b[92m-\u001b[0m\u001b[92m-\u001b[0m\u001b[92m-\u001b[0m\u001b[92m-\u001b[0m\u001b[92m-\u001b[0m\u001b[92m-\u001b[0m\u001b[92m-\u001b[0m\u001b[92m-\u001b[0m\u001b[92m-\u001b[0m\u001b[92m-\u001b[0m\u001b[92m-\u001b[0m\u001b[92m-\u001b[0m\u001b[92m-\u001b[0m\n",
      "5\n",
      "This is the dialog history:\n",
      "--------------------------------------------------------------------------------------------------------------\n",
      "\u001b[96m[Sample 3 of 5]\u001b[0m\n",
      "\u001b[96mA: What's your favorite colour?\u001b[0m\n",
      "--------------------------------------------------------------------------------------------------------------\n",
      "\n",
      "Which next turn is better?\n",
      "--------------------------------------------------------------------------------------------------------------\n",
      "Dialog 1                                               |     Dialog 2\n",
      "\u001b[96mI don't know.                                     \u001b[0m     |     \u001b[96mI think it will be better                         \u001b[0m\n",
      "--------------------------------------------------------------------------------------------------------------\n",
      "\n",
      "Which dialog is better? Type 1 for left, 2 for right, 3 if they are equally good, 4 if they are uncomparable (or exit to stop annotation) and hit enter.\n",
      "Your input: 3\n",
      "2\n",
      "\n",
      "Annotation finished successfully. \n",
      "You can find your annotation results under: /Users/viviane/University/NLP-Lab/OUR-CODE/nlp-2021-vda/scripts/results/annotated_samples_16-05-2021-22-20.json\n",
      "This is the dialog history:\n",
      "--------------------------------------------------------------------------------------------------------------\n",
      "\u001b[96m[Sample 4 of 5]\u001b[0m\n",
      "\u001b[96mA: I'm tired.\u001b[0m\n",
      "--------------------------------------------------------------------------------------------------------------\n",
      "\n",
      "Which next turn is better?\n",
      "--------------------------------------------------------------------------------------------------------------\n",
      "Dialog 1                                               |     Dialog 2\n",
      "\u001b[96mWe all have this problem.                         \u001b[0m     |     \u001b[96mDo you sleep enough?                              \u001b[0m\n",
      "--------------------------------------------------------------------------------------------------------------\n",
      "\n",
      "Which dialog is better? Type 1 for left, 2 for right, 3 if they are equally good, 4 if they are uncomparable (or exit to stop annotation) and hit enter.\n",
      "Your input: 2\n",
      "2\n",
      "\n",
      "Annotation finished successfully. \n",
      "You can find your annotation results under: /Users/viviane/University/NLP-Lab/OUR-CODE/nlp-2021-vda/scripts/results/annotated_samples_16-05-2021-22-20.json\n",
      "This is the dialog history:\n",
      "--------------------------------------------------------------------------------------------------------------\n",
      "\u001b[96m[Sample 5 of 5]\u001b[0m\n",
      "\u001b[96mA: What's your problem?\u001b[0m\n",
      "--------------------------------------------------------------------------------------------------------------\n",
      "\n",
      "Which next turn is better?\n",
      "--------------------------------------------------------------------------------------------------------------\n",
      "Dialog 1                                               |     Dialog 2\n",
      "\u001b[96mI'm happy                                         \u001b[0m     |     \u001b[96mI don't know.                                     \u001b[0m\n",
      "--------------------------------------------------------------------------------------------------------------\n",
      "\n",
      "Which dialog is better? Type 1 for left, 2 for right, 3 if they are equally good, 4 if they are uncomparable (or exit to stop annotation) and hit enter.\n",
      "Your input: 1\n",
      "2\n",
      "\n",
      "Annotation finished successfully. \n",
      "You can find your annotation results under: /Users/viviane/University/NLP-Lab/OUR-CODE/nlp-2021-vda/scripts/results/annotated_samples_16-05-2021-22-20.json\n"
     ]
    }
   ],
   "source": [
    "annotate_comparisons.annotate(inputfile='../data/test_comparisons_output.json', outputfile='annotated_samples_16-05-2021-22-20.json')"
   ]
  },
  {
   "cell_type": "code",
   "execution_count": 9,
   "id": "bc0a53be",
   "metadata": {},
   "outputs": [
    {
     "name": "stdout",
     "output_type": "stream",
     "text": [
      "README.md             env.yaml              \u001b[1m\u001b[36mscripts\u001b[m\u001b[m/\r\n",
      "\u001b[1m\u001b[36mcheckpoint\u001b[m\u001b[m/           \u001b[1m\u001b[36mgpt-2\u001b[m\u001b[m/                \u001b[1m\u001b[36mtests\u001b[m\u001b[m/\r\n",
      "\u001b[1m\u001b[36mdata\u001b[m\u001b[m/                 \u001b[1m\u001b[36mmodels\u001b[m\u001b[m/               train_notebook.ipynb\r\n",
      "\u001b[1m\u001b[36mdatasets\u001b[m\u001b[m/             \u001b[1m\u001b[36mnotebooks\u001b[m\u001b[m/\r\n",
      "env.py                requirements.txt\r\n"
     ]
    }
   ],
   "source": [
    "%ls\n"
   ]
  },
  {
   "cell_type": "code",
   "execution_count": null,
   "id": "c18956ee",
   "metadata": {},
   "outputs": [],
   "source": []
  }
 ],
 "metadata": {
  "kernelspec": {
   "display_name": "Python 3",
   "language": "python",
   "name": "python3"
  },
  "language_info": {
   "codemirror_mode": {
    "name": "ipython",
    "version": 3
   },
   "file_extension": ".py",
   "mimetype": "text/x-python",
   "name": "python",
   "nbconvert_exporter": "python",
   "pygments_lexer": "ipython3",
   "version": "3.7.0"
  }
 },
 "nbformat": 4,
 "nbformat_minor": 5
}
